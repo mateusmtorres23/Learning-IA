{
 "cells": [
  {
   "cell_type": "markdown",
   "id": "8b956aff",
   "metadata": {},
   "source": [
    "Complete AI Agent orchestration with langgraph"
   ]
  },
  {
   "cell_type": "code",
   "execution_count": 363,
   "id": "50319239",
   "metadata": {},
   "outputs": [],
   "source": [
    "import os\n",
    "from dotenv import load_dotenv\n",
    "\n",
    "load_dotenv()\n",
    "\n",
    "GOOGLE_API_KEY = os.getenv(\"GOOGLE_API_KEY\")"
   ]
  },
  {
   "cell_type": "markdown",
   "id": "df65af96",
   "metadata": {},
   "source": [
    "Triage chain"
   ]
  },
  {
   "cell_type": "code",
   "execution_count": 364,
   "id": "5114c3df",
   "metadata": {},
   "outputs": [],
   "source": [
    "from pydantic import BaseModel, Field\n",
    "from typing import Literal\n",
    "\n",
    "class TriageOut(BaseModel):\n",
    "    decision: Literal[\"SELF_RESOLVE\",\"REQUEST_INFO\",\"OPEN_TICKET\"]\n",
    "    urgency: Literal[\"LOW\", \"MEDIUM\", \"HIGH\"]\n",
    "    missing_fields: list[str] = Field(default_factory=list)"
   ]
  },
  {
   "cell_type": "code",
   "execution_count": 365,
   "id": "42998fb1",
   "metadata": {},
   "outputs": [],
   "source": [
    "from langchain_google_genai import ChatGoogleGenerativeAI\n",
    "\n",
    "llm = ChatGoogleGenerativeAI(\n",
    "    model=\"gemini-2.5-flash\",\n",
    "    temperature=0,\n",
    "    api_key=GOOGLE_API_KEY\n",
    ")"
   ]
  },
  {
   "cell_type": "code",
   "execution_count": 366,
   "id": "1f3d4ad1",
   "metadata": {},
   "outputs": [],
   "source": [
    "triage_Prompt = (\"\"\"\n",
    "                    # Role\n",
    "                  You are a Service Desk agent responsible for triaging requests related to internal policies at the company \"Carraro Desenvolvimento\".\n",
    "\n",
    "                  # Task\n",
    "                  Given a user's message, you must return ONLY a JSON object with the following structure:\n",
    "                  {\n",
    "                    \"decision\": \"SELF_RESOLVE\" | \"REQUEST_INFO\" | \"OPEN_TICKET\",\n",
    "                    \"urgency\": \"LOW\" | \"MEDIUM\" | \"HIGH\",\n",
    "                    \"missing_fields\": [\"...\"]\n",
    "                  }\n",
    "\n",
    "                  # Decision Rules\n",
    "                  - **SELF_RESOLVE**: Use this for clear questions about rules or procedures described in the policies (e.g., \"Can I get reimbursed for my home office internet?\", \"How does the meal policy for work travel function?\").\n",
    "                  - **REQUEST_INFO**: Use this for vague messages that lack the necessary information to identify the topic or context (e.g., \"I need help with a policy,\" \"I have a general question.\").\n",
    "                    - When using this decision, you must populate the \"missing_fields\" array with the specific information that needs clarification (e.g., \"policy_name\", \"problem_description\").\n",
    "                  - **OPEN_TICKET**: Use this for requests that require an exception, release, approval, or special access, or when the user explicitly asks to open a ticket (e.g., \"I want an exception to work 5 days remotely,\" \"I am requesting clearance for external attachments,\" \"Please open a ticket with HR for me.\").\n",
    "\n",
    "                  # Urgency Rules\n",
    "                  - **HIGH**: The user reports an issue that completely prevents them from working, or they mention a security risk, legal issue, or data loss (e.g., \"I can't access the system to do my job,\" \"I received a phishing email and clicked the link\").\n",
    "                  - **MEDIUM**: The user has a problem that hinders their work but doesn't block it, or they have an approaching deadline (e.g., \"I need approval for a trip next week\").\n",
    "                  - **LOW**: General questions, doubts about policies, or requests that do not have an immediate deadline (e.g., \"How does the vacation policy work?\", \"I have a question about reimbursement\").\n",
    "\n",
    "                  # Final Instruction\n",
    "                  Analyze the user's message and determine the most appropriate action (\"decision\") and \"urgency\" based on the rules defined above.\n",
    "                  \"\"\")"
   ]
  },
  {
   "cell_type": "code",
   "execution_count": 367,
   "id": "b0488c7f",
   "metadata": {},
   "outputs": [],
   "source": [
    "from langchain_core.messages import SystemMessage, HumanMessage\n",
    "\n",
    "triage_chain = llm.with_structured_output(TriageOut)\n",
    "\n",
    "def triage(message:str) ->dict:\n",
    "    output: TriageOut = triage_chain.invoke([\n",
    "        SystemMessage(content=triage_Prompt),\n",
    "        HumanMessage(content=message)\n",
    "    ])\n",
    "    return output.model_dump()"
   ]
  },
  {
   "cell_type": "markdown",
   "id": "1449c485",
   "metadata": {},
   "source": [
    "RAG chain"
   ]
  },
  {
   "cell_type": "code",
   "execution_count": 368,
   "id": "11a96793",
   "metadata": {},
   "outputs": [
    {
     "name": "stdout",
     "output_type": "stream",
     "text": [
      "file loaded succesifuly: Política de Reembolsos (Viagens e Despesas).pdf\n",
      "file loaded succesifuly: Política de Uso de E-mail e Segurança da Informação.pdf\n",
      "file loaded succesifuly: Políticas de Home Office.pdf\n"
     ]
    }
   ],
   "source": [
    "from pathlib import Path\n",
    "from langchain_community.document_loaders import PyMuPDFLoader\n",
    "\n",
    "docs = []\n",
    "data_path = Path('text_docs/')\n",
    "for d in data_path.glob(\"*.pdf\"):\n",
    "    try:\n",
    "        loader = PyMuPDFLoader(str(d))\n",
    "        docs.extend(loader.load())\n",
    "        print(f\"file loaded succesifuly: {d.name}\")\n",
    "    except Exception as e:\n",
    "        print(f\"failed to load the file {d.name}: {e}\")\n"
   ]
  },
  {
   "cell_type": "code",
   "execution_count": 369,
   "id": "917c12c3",
   "metadata": {},
   "outputs": [],
   "source": [
    "from langchain.text_splitter import RecursiveCharacterTextSplitter\n",
    "\n",
    "splitter = RecursiveCharacterTextSplitter(chunk_size=300, chunk_overlap=30)\n",
    "\n",
    "chunks = splitter.split_documents(docs)"
   ]
  },
  {
   "cell_type": "code",
   "execution_count": 370,
   "id": "d6077748",
   "metadata": {},
   "outputs": [],
   "source": [
    "from langchain_google_genai import GoogleGenerativeAIEmbeddings, ChatGoogleGenerativeAI\n",
    "\n",
    "embeddings = GoogleGenerativeAIEmbeddings(\n",
    "    model = \"models/gemini-embedding-001\",\n",
    "    google_api_key=GOOGLE_API_KEY\n",
    ")"
   ]
  },
  {
   "cell_type": "code",
   "execution_count": 371,
   "id": "c55500aa",
   "metadata": {},
   "outputs": [],
   "source": [
    "from langchain_community.vectorstores import FAISS\n",
    "\n",
    "vectorstore = FAISS.from_documents(chunks, embeddings)\n",
    "retriever = vectorstore.as_retriever(search_type= 'similarity_score_threshold',\n",
    "                                     search_kwargs = {'score_threshold':0.3,'k':4})"
   ]
  },
  {
   "cell_type": "code",
   "execution_count": 372,
   "id": "34d0bed3",
   "metadata": {},
   "outputs": [],
   "source": [
    "from langchain_core.prompts import ChatPromptTemplate\n",
    "from langchain.chains.combine_documents import create_stuff_documents_chain\n",
    "\n",
    "rag_prompt = ChatPromptTemplate.from_messages([\n",
    "    (\"system\", \"You are an expert HR and IT assistant for the company 'Torres Devs'. \"\n",
    "               \"Your main task is to answer employee questions based ONLY on the context provided. \"\n",
    "               \"Be polite and professional in your responses. \"\n",
    "               \"If the information to answer the question is not in the provided context, \"\n",
    "               \"clearly state that you cannot find the answer in the company's documents.\"),\n",
    "    \n",
    "    (\"user\", \"Based on our company's policies, please answer the following question:\\n\\nQuestion: {input}\\n\\nContext:\\n{context}\")\n",
    "])\n",
    "\n",
    "document_chain = create_stuff_documents_chain(llm, rag_prompt)"
   ]
  },
  {
   "cell_type": "code",
   "execution_count": 373,
   "id": "482cec47",
   "metadata": {},
   "outputs": [],
   "source": [
    "def ask_question_rag(question:str) -> dict:\n",
    "    related_docs = retriever.invoke(question)\n",
    "\n",
    "    if not related_docs:\n",
    "        return {\"answer\": \"cannot find the answer in the company's documents\",\n",
    "                \"citations\":[],\n",
    "                \"context_found\": False}\n",
    "    \n",
    "    answer = document_chain.invoke({\"input\": question,\n",
    "                                    \"context\": related_docs})\n",
    "    text = (answer or \"\").strip()\n",
    "\n",
    "    if text.rstrip(\".!?\") == \"cannot find the answer in the company's documents\":\n",
    "        return {\"answer\": \"cannot find the answer in the company's documents\",\n",
    "                \"citations\":[],\n",
    "                \"context_found\": False}\n",
    "    return {\"answer\": text,\n",
    "            \"citations\":related_docs,\n",
    "            \"context_found\": True}"
   ]
  },
  {
   "cell_type": "markdown",
   "id": "afb775a1",
   "metadata": {},
   "source": [
    "CODIGO DA AULA"
   ]
  },
  {
   "cell_type": "code",
   "execution_count": 374,
   "id": "8b3d3941",
   "metadata": {},
   "outputs": [],
   "source": [
    "from typing import TypedDict, Optional, List\n",
    "\n",
    "class AgentState(TypedDict, total = False):\n",
    "    question: str\n",
    "    triage: dict\n",
    "    answer: Optional[str]\n",
    "    citations: List[dict]\n",
    "    rag_success: bool\n",
    "    final_action: str"
   ]
  },
  {
   "cell_type": "code",
   "execution_count": 375,
   "id": "bcc62184",
   "metadata": {},
   "outputs": [],
   "source": [
    "def triage_node(state: AgentState) -> AgentState:\n",
    "    print(\"Executing the triaging node...\")\n",
    "    return {\"triage\": triage(state[\"question\"])}"
   ]
  },
  {
   "cell_type": "code",
   "execution_count": 376,
   "id": "7c79443c",
   "metadata": {},
   "outputs": [],
   "source": [
    "def self_resolve_node(state: AgentState) -> AgentState:\n",
    "    print(\"Executing the self resolve node...\")\n",
    "    rag_answer = ask_question_rag(state[\"question\"])\n",
    "\n",
    "    update: AgentState = {\"answer\": rag_answer[\"answer\"],\n",
    "                          \"citations\": rag_answer.get(\"citations\", []),\n",
    "                          \"rag_success\": rag_answer[\"context_found\"]}\n",
    "\n",
    "    if rag_answer[\"context_found\"]:\n",
    "        update['final_action'] = \"SELF_RESOLVE\"\n",
    "\n",
    "    return update"
   ]
  },
  {
   "cell_type": "code",
   "execution_count": 377,
   "id": "7dc8ccbd",
   "metadata": {},
   "outputs": [],
   "source": [
    "def request_info_node(state: AgentState) -> AgentState:\n",
    "    print(\"Executing the ask for info node...\")\n",
    "    missing = state['triage'].get('missing_fields', [])\n",
    "    detail = \",\".join(missing) if missing else \"tema e contexto específico\"\n",
    "    return {\n",
    "        \"answer\": f\"To move forward, I need you to provide this details: {detail}\",\n",
    "        \"citations\": [],\n",
    "        \"final_action\": \"REQUEST_INFO\"}"
   ]
  },
  {
   "cell_type": "code",
   "execution_count": 378,
   "id": "f7563e56",
   "metadata": {},
   "outputs": [],
   "source": [
    "def open_ticket_node(state: AgentState) -> AgentState:\n",
    "    print(\"Executing the open ticket node...\")\n",
    "    return {\n",
    "        \"answer\": f\"I'm going to open a ticket for you with urgency {state['triage']['urgency']}. Descrição: {state[\"question\"][:140]}\",\n",
    "        \"citations\": [],\n",
    "        \"final_action\": \"OPEN_TICKET\"\n",
    "    }\n"
   ]
  },
  {
   "cell_type": "code",
   "execution_count": 379,
   "id": "bee875df",
   "metadata": {},
   "outputs": [],
   "source": [
    "kw_open_ticket = [\"exception\",\"special case\",\"outside of the policy\",\"exceptional cost\",\"approval\",\"approve\",\n",
    "                  \"authorization\",\"authorize\",\"manager to approve\",\"budget\",\"quote\",\"release\",\"clearance\",\"unblock\",\n",
    "                  \"access\",\"permit\",\"allow\",\"open a ticket\",\"create a ticket\",\"log a request\",\"file a ticket\",\n",
    "                  \"formalize this request\"]\n"
   ]
  },
  {
   "cell_type": "code",
   "execution_count": 380,
   "id": "00a09300",
   "metadata": {},
   "outputs": [],
   "source": [
    "def manager_triage(state: AgentState) -> str:\n",
    "    print('deciding after the triage...')\n",
    "    decision = state[\"triage\"][\"decision\"]\n",
    "\n",
    "    if decision == \"SELF_RESOLVE\": return \"self\"\n",
    "    if decision == \"REQUEST_INFO\": return \"request\"\n",
    "    if decision == \"OPEN_TICKET\": return \"open\""
   ]
  },
  {
   "cell_type": "code",
   "execution_count": 381,
   "id": "32d7fb7d",
   "metadata": {},
   "outputs": [],
   "source": [
    "def manager_self_resolve(state: AgentState) -> str:\n",
    "    print('deciding after self resolve...')\n",
    "\n",
    "    if state.get(\"rag_success\"):\n",
    "        print(\"RAG executed with success, ending the program\") \n",
    "        return \"end\"\n",
    "    \n",
    "    question_state = (state[\"question\"] or \"\").lower()\n",
    "\n",
    "    if any(k in question_state for k in kw_open_ticket):\n",
    "        print(\"RAG failed but i found a ticket key word. Opening a ticket...\")\n",
    "        return \"open\"\n",
    "    \n",
    "    print(\"RAG failed, I'm going to ask for more information\")\n",
    "    return \"request\""
   ]
  },
  {
   "cell_type": "code",
   "execution_count": 382,
   "id": "d98a3495",
   "metadata": {},
   "outputs": [],
   "source": [
    "from langgraph.graph import StateGraph, START, END\n",
    "\n",
    "workflow = StateGraph(AgentState)\n",
    "\n",
    "workflow.add_node(\"triage\", triage_node)\n",
    "workflow.add_node(\"self_resolve\", self_resolve_node)\n",
    "workflow.add_node(\"open_ticket\", open_ticket_node)\n",
    "workflow.add_node(\"request_info\", request_info_node)\n",
    "\n",
    "workflow.add_edge(START, \"triage\")\n",
    "workflow.add_conditional_edges(\"triage\", manager_triage, {\n",
    "    \"self\": \"self_resolve\",\n",
    "    \"request\": \"request_info\",\n",
    "    \"open\": \"open_ticket\"\n",
    "})\n",
    "workflow.add_conditional_edges(\"self_resolve\", manager_self_resolve, {\n",
    "    \"request\": \"request_info\",\n",
    "    \"open\": \"open_ticket\",\n",
    "    \"end\": END\n",
    "})\n",
    "\n",
    "workflow.add_edge(\"request_info\", END)\n",
    "workflow.add_edge(\"open_ticket\", END)\n",
    "\n",
    "graph = workflow.compile()"
   ]
  },
  {
   "cell_type": "code",
   "execution_count": 383,
   "id": "5b7009f2",
   "metadata": {},
   "outputs": [
    {
     "data": {
      "image/png": "[encoded data removed]",
      "text/plain": [
       "<IPython.core.display.Image object>"
      ]
     },
     "metadata": {},
     "output_type": "display_data"
    }
   ],
   "source": [
    "from IPython.display import display, Image\n",
    "\n",
    "graph_bytes = graph.get_graph().draw_mermaid_png()\n",
    "display(Image(graph_bytes))"
   ]
  },
  {
   "cell_type": "code",
   "execution_count": null,
   "id": "19cc6170",
   "metadata": {},
   "outputs": [],
   "source": [
    "test_questions = [\n",
    "    \"How does the reimbursement policy for home office internet expenses work?\",\n",
    "    \"I need to know the meal allowance rules for a trip next week; my flight is on Monday.\",\n",
    "    \"I received an email that looks like phishing and I clicked the link. What does the security policy say I should do now?\",\n",
    "    \"I have a question about a policy.\",\n",
    "    \"I would like to request an exception to work 5 days a week remotely next month.\",\n",
    "    \"Please open a ticket with HR to formalize my request for a course reimbursement.\"\n",
    "]"
   ]
  },
  {
   "cell_type": "code",
   "execution_count": null,
   "id": "651d7ac8",
   "metadata": {},
   "outputs": [
    {
     "name": "stdout",
     "output_type": "stream",
     "text": [
      "Executing the triaging node...\n",
      "deciding after the triage...\n",
      "Executing the self resolve node...\n",
      "deciding after self resolve...\n",
      "RAG executed with success, ending the program\n",
      "Question: How does the reimbursement policy for home office internet expenses work?\n",
      "Decision: SELF_RESOLVE | Urgency: LOW | Final action: SELF_RESOLVE\n",
      "Answer: Olá!\n",
      "\n",
      "De acordo com as políticas da Torres Devs, o reembolso para despesas de internet domiciliar para quem trabalha em home office funciona da seguinte forma:\n",
      "\n",
      "*   Há um subsídio mensal de internet domiciliar.\n",
      "*   O valor máximo reembolsável é de até R$ 100 por mês.\n",
      "*   O reembolso é feito mediante a apresentação de uma nota fiscal nominal.\n",
      "\n",
      "Se precisar de mais detalhes sobre o processo de submissão da nota fiscal, por favor, me informe.\n",
      "------------------------------------\n",
      "\n",
      "Executing the triaging node...\n",
      "deciding after the triage...\n",
      "Executing the self resolve node...\n",
      "deciding after self resolve...\n",
      "RAG executed with success, ending the program\n",
      "Question: I need to know the meal allowance rules for a trip next week; my flight is on Monday.\n",
      "Decision: SELF_RESOLVE | Urgency: MEDIUM | Final action: SELF_RESOLVE\n",
      "Answer: Olá!\n",
      "\n",
      "Com base na política de reembolsos da Torres Devs, as regras para alimentação em viagem são as seguintes:\n",
      "\n",
      "*   Há um limite de R$ 70 por dia por pessoa para alimentação.\n",
      "*   Bebidas alcoólicas não são reembolsáveis.\n",
      "\n",
      "Lembre-se que o reembolso requer nota fiscal e deve ser submetido em até 10 dias corridos após a despesa.\n",
      "\n",
      "Se precisar de mais alguma informação, estou à disposição.\n",
      "------------------------------------\n",
      "\n",
      "Executing the triaging node...\n",
      "deciding after the triage...\n",
      "Executing the self resolve node...\n",
      "deciding after self resolve...\n",
      "RAG executed with success, ending the program\n",
      "Question: I received an email that looks like phishing and I clicked the link. What does the security policy say I should do now?\n",
      "Decision: SELF_RESOLVE | Urgency: HIGH | Final action: SELF_RESOLVE\n",
      "Answer: Olá!\n",
      "\n",
      "De acordo com a \"Política de Uso de E-mail e Segurança da Informação\" da Torres Devs, no item referente a Phishing, a orientação é a seguinte:\n",
      "\n",
      "\"Phishing: verifique remetente e domínios suspeitos. Reporte mensagens suspeitas ao time de Segurança imediatamente.\"\n",
      "\n",
      "Portanto, a política instrui que você deve **reportar a mensagem suspeita ao time de Segurança imediatamente**. A política não detalha passos específicos a serem tomados após clicar em um link de phishing, mas a ação principal é reportar a mensagem.\n",
      "------------------------------------\n",
      "\n",
      "Executing the triaging node...\n",
      "deciding after the triage...\n",
      "Executing the ask for info node...\n",
      "Question: I have a question about a policy.\n",
      "Decision: REQUEST_INFO | Urgency: LOW | Final action: REQUEST_INFO\n",
      "Answer: To move forward, I need you to provide this details: policy_name,problem_description\n",
      "------------------------------------\n",
      "\n",
      "Executing the triaging node...\n",
      "deciding after the triage...\n",
      "Executing the open ticket node...\n",
      "Question: I would like to request an exception to work 5 days a week remotely next month.\n",
      "Decision: OPEN_TICKET | Urgency: LOW | Final action: OPEN_TICKET\n",
      "Answer: I'm going to open a ticket for you with urgency LOW. Descrição: I would like to request an exception to work 5 days a week remotely next month.\n",
      "------------------------------------\n",
      "\n",
      "Executing the triaging node...\n",
      "deciding after the triage...\n",
      "Executing the open ticket node...\n",
      "Question: Please open a ticket with HR to formalize my request for a course reimbursement.\n",
      "Decision: OPEN_TICKET | Urgency: LOW | Final action: OPEN_TICKET\n",
      "Answer: I'm going to open a ticket for you with urgency LOW. Descrição: Please open a ticket with HR to formalize my request for a course reimbursement.\n",
      "------------------------------------\n",
      "\n"
     ]
    }
   ],
   "source": [
    "for qst in test_questions:\n",
    "    f_answer = graph.invoke({\"question\": qst})\n",
    "\n",
    "    triag = f_answer.get(\"triage\", {})\n",
    "    print(f\"Question: {qst}\")\n",
    "    print(f\"Decision: {triag.get('decision')} | Urgency: {triag.get('urgency')} | Final action: {f_answer.get('final_action')}\")\n",
    "    print(f\"Answer: {f_answer.get('answer')}\")\n",
    "    print()\n",
    "    print(\"------------------------------------\")\n",
    "    print()"
   ]
  }
 ],
 "metadata": {
  "kernelspec": {
   "display_name": "venv",
   "language": "python",
   "name": "python3"
  },
  "language_info": {
   "codemirror_mode": {
    "name": "ipython",
    "version": 3
   },
   "file_extension": ".py",
   "mimetype": "text/x-python",
   "name": "python",
   "nbconvert_exporter": "python",
   "pygments_lexer": "ipython3",
   "version": "3.13.3"
  }
 },
 "nbformat": 4,
 "nbformat_minor": 5
}
