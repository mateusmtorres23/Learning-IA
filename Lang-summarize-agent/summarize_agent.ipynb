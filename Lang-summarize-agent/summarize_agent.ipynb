{
 "cells": [
  {
   "cell_type": "code",
   "execution_count": 21,
   "id": "d4a871e9",
   "metadata": {},
   "outputs": [],
   "source": [
    "import os \n",
    "from dotenv import load_dotenv\n",
    "load_dotenv()\n",
    "\n",
    "GOOGLE_API_KEY = os.getenv(\"GOOGLE_API_KEY\")"
   ]
  },
  {
   "cell_type": "code",
   "execution_count": 22,
   "id": "59c7f16e",
   "metadata": {},
   "outputs": [],
   "source": [
    "from langchain_google_genai import ChatGoogleGenerativeAI\n",
    "\n",
    "llm = ChatGoogleGenerativeAI(\n",
    "    temperature=0, \n",
    "    model=\"gemini-2.5-pro\", \n",
    "    api_key=GOOGLE_API_KEY\n",
    ")"
   ]
  },
  {
   "cell_type": "code",
   "execution_count": 23,
   "id": "3fee51c7",
   "metadata": {},
   "outputs": [
    {
     "name": "stdout",
     "output_type": "stream",
     "text": [
      "file loaded successfully: 2505.08672v2.pdf\n",
      "file loaded successfully: Teaching high school students about generative AI  Cases of teacher lesson design.pdf\n",
      "44 documents loaded \n"
     ]
    }
   ],
   "source": [
    "from pathlib import Path\n",
    "from langchain_community.document_loaders import PyMuPDFLoader\n",
    "\n",
    "docs = []\n",
    "data_path = Path(\"articles/\")\n",
    "for file in data_path.glob(\"*.pdf\"):\n",
    "    try:\n",
    "        loader = PyMuPDFLoader(file)\n",
    "        docs.extend(loader.load())\n",
    "        print(f\"file loaded successfully: {file.name}\")\n",
    "    except Exception as e:\n",
    "        print(f\"Error loading {file.name}: {e}\")\n",
    "print(f\"{len(docs)} documents loaded \")"
   ]
  },
  {
   "cell_type": "code",
   "execution_count": 24,
   "id": "7ddf0eb8",
   "metadata": {},
   "outputs": [],
   "source": [
    "from langchain.text_splitter import RecursiveCharacterTextSplitter\n",
    "\n",
    "splitter = RecursiveCharacterTextSplitter(chunk_size=2000, chunk_overlap=200)\n",
    "chunks = splitter.split_documents(docs)"
   ]
  },
  {
   "cell_type": "code",
   "execution_count": 25,
   "id": "364b5aae",
   "metadata": {},
   "outputs": [],
   "source": [
    "summarize_prompt = \"\"\"\n",
    "# Persona\n",
    "You are an expert Research Assistant with a specialization in analyzing academic papers at the intersection of Artificial Intelligence and Education.\n",
    "\n",
    "# Context\n",
    "Your purpose is to assist a first-year software engineering student who is researching Generative AI in education. You will be provided with one or more relevant academic articles via a retrieval system. Your task is to process the retrieved document(s) and generate a structured, two-part report that synthesizes the key information.\n",
    "\n",
    "# Task & Instructions\n",
    "Based on the retrieved context from the provided article(s), generate a report with two distinct parts.\n",
    "\n",
    "## Part 1: Comparative Analysis\n",
    "First, generate a comparative analysis. For EACH article, create a separate section with the following structure using Markdown headings:\n",
    "\n",
    "### Article Title: [Insert Full Title of the Article]\n",
    "- **Core Problem:** The main research question or problem the authors are addressing.\n",
    "- **Methodology:** The research methods used (e.g., literature review, case study, experiment, survey).\n",
    "- **Key Findings:** The most important conclusions or results of the study.\n",
    "- **Relevance to GenAI in Education:** A brief statement on how this article contributes to the overall research topic.\n",
    "\n",
    "--- (Use a horizontal rule to separate the articles)\n",
    "\n",
    "## Part 2: Detailed Article Summaries\n",
    "After the comparative analysis, provide a detailed summary for EACH article separately... (rest of the prompt is the same)\n",
    "\n",
    "# Constraints\n",
    "- **Tone:** The language must be formal, technical, and analytical.\n",
    "- **Format:** Strictly adhere to the two-part structure (Comparative Analysis first, then Detailed Summaries). Use Markdown for all formatting.\n",
    "- **Scope:** Your analysis must be based *only* on the information contained within the retrieved document(s). Do not introduce external knowledge.\n",
    "\"\"\""
   ]
  },
  {
   "cell_type": "code",
   "execution_count": 26,
   "id": "a0564bba",
   "metadata": {},
   "outputs": [],
   "source": [
    "from pydantic import BaseModel, Field\n",
    "\n",
    "class DocumentSummary(BaseModel):\n",
    "    comparative_table: str = Field(..., description=\"A comparative analysis of the articles, with each article in its own section.\")\n",
    "    detailed_summaries: str = Field(..., description=\"Detailed summaries for each article as specified in the prompt.\")\n"
   ]
  },
  {
   "cell_type": "code",
   "execution_count": 27,
   "id": "8b6bc80a",
   "metadata": {},
   "outputs": [],
   "source": [
    "from langchain_core.messages import SystemMessage, HumanMessage\n",
    "\n",
    "summarize_chain = llm.with_structured_output(DocumentSummary)\n",
    "\n",
    "def summarize(retrieved_docs:list) -> DocumentSummary:\n",
    "    context = \"\\n\\n\".join([doc.page_content for doc in retrieved_docs])\n",
    "    messages = [\n",
    "        SystemMessage(content=summarize_prompt),\n",
    "        HumanMessage(content=f\"Context:\\n{context}\\n\\nPlease generate the report as specified.\")\n",
    "    ]\n",
    "    response = summarize_chain.invoke(messages)\n",
    "    return response\n",
    "\n",
    "summary = summarize(chunks)"
   ]
  },
  {
   "cell_type": "code",
   "execution_count": 28,
   "id": "9594098c",
   "metadata": {},
   "outputs": [],
   "source": [
    "import re\n",
    "\n",
    "def tidy_markdown(text: str) -> str:\n",
    "    text = text.strip()\n",
    "    text = re.sub(r\"\\n{3,}\", \"\\n\\n\", text)\n",
    "    return text\n",
    "\n",
    "summary.comparative_table = tidy_markdown(summary.comparative_table)\n",
    "summary.detailed_summaries = tidy_markdown(summary.detailed_summaries)\n"
   ]
  },
  {
   "cell_type": "code",
   "execution_count": 29,
   "id": "1e2bfda2",
   "metadata": {},
   "outputs": [],
   "source": [
    "import datetime\n",
    "\n",
    "def summary_to_markdown(summary: DocumentSummary, output_path: str = \"summaries\"):\n",
    "    os.makedirs(output_path, exist_ok=True)\n",
    "    timestamp = datetime.datetime.now().strftime(\"%Y-%m-%d_%H-%M-%S\")\n",
    "    filename = os.path.join(output_path,f\"summary_{timestamp}.md\")\n",
    "\n",
    "    try:\n",
    "        with open(filename, 'w', encoding='utf-8')as f:\n",
    "            f.write(\"# AI generated document summary:\\n\\n\")\n",
    "            f.write(\"## Comparative Analysis\\n\\n\")\n",
    "            f.write(summary.comparative_table)\n",
    "            f.write(\"\\n\\n## Detailed Summaries\\n\\n\")\n",
    "            f.write(summary.detailed_summaries)\n",
    "        print(f\"Summary saved successfully to {filename}\")\n",
    "    except Exception as e:\n",
    "        print(f\"Error saving summary to file: {e}\")\n",
    "    return filename\n"
   ]
  },
  {
   "cell_type": "code",
   "execution_count": 30,
   "id": "22431d55",
   "metadata": {},
   "outputs": [
    {
     "name": "stdout",
     "output_type": "stream",
     "text": [
      "Summary saved successfully to summaries\\summary_2025-09-16_18-14-46.md\n",
      "PDF file saved successfully to: summaries\\summary_2025-09-16_18-14-46.pdf\n"
     ]
    }
   ],
   "source": [
    "import mistune\n",
    "from weasyprint import HTML\n",
    "\n",
    "def markdown_to_pdf(mdfile: str):\n",
    "    pdf_file = mdfile.replace('.md', '.pdf')\n",
    "\n",
    "    try:\n",
    "        with open(mdfile, 'r', encoding='utf-8') as f:\n",
    "            md_content = f.read()\n",
    "            html_content = mistune.html(md_content)\n",
    "            HTML(string=html_content).write_pdf(pdf_file)\n",
    "            print(f\"PDF file saved successfully to: {pdf_file}\")\n",
    "    except Exception as e:\n",
    "        print(f\"Error converting markdown to PDF: {e}\")\n",
    "\n",
    "markdown_filename = summary_to_markdown(summary)\n",
    "if markdown_filename:\n",
    "    markdown_to_pdf(markdown_filename)"
   ]
  }
 ],
 "metadata": {
  "kernelspec": {
   "display_name": "venv",
   "language": "python",
   "name": "python3"
  },
  "language_info": {
   "codemirror_mode": {
    "name": "ipython",
    "version": 3
   },
   "file_extension": ".py",
   "mimetype": "text/x-python",
   "name": "python",
   "nbconvert_exporter": "python",
   "pygments_lexer": "ipython3",
   "version": "3.13.3"
  }
 },
 "nbformat": 4,
 "nbformat_minor": 5
}
