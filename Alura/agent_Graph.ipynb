{
 "cells": [
  {
   "cell_type": "markdown",
   "id": "8b956aff",
   "metadata": {},
   "source": [
    "Complete AI Agent orchestration with langgraph"
   ]
  },
  {
   "cell_type": "code",
   "execution_count": null,
   "id": "50319239",
   "metadata": {},
   "outputs": [],
   "source": [
    "import os\n",
    "from dotenv import load_dotenv\n",
    "\n",
    "load_dotenv()\n",
    "\n",
    "GOOGLE_API_KEY = os.getenv(\"GOOGLE_API_KEY\")"
   ]
  },
  {
   "cell_type": "code",
   "execution_count": null,
   "id": "5114c3df",
   "metadata": {},
   "outputs": [],
   "source": [
    "from pydantic import BaseModel, Field\n",
    "from typing import Literal\n",
    "\n",
    "class TriageOut(BaseModel):\n",
    "    decision: Literal[\"SELF_RESOLVE\",\"ASK_FOR_INFO\",\"OPEN_TICKET\"]\n",
    "    urgency: Literal[\"LOW\", \"MEDIUM\", \"HIGH\"]\n",
    "    missing_fields: list[str] = Field(default_factory=list)"
   ]
  },
  {
   "cell_type": "code",
   "execution_count": null,
   "id": "42998fb1",
   "metadata": {},
   "outputs": [],
   "source": [
    "from langchain_google_genai import ChatGoogleGenerativeAI\n",
    "\n",
    "llm = ChatGoogleGenerativeAI(\n",
    "    model=\"gemini-2.5-flash\",\n",
    "    temperature=0,\n",
    "    api_key=GOOGLE_API_KEY\n",
    ")"
   ]
  },
  {
   "cell_type": "code",
   "execution_count": null,
   "id": "1f3d4ad1",
   "metadata": {},
   "outputs": [],
   "source": []
  },
  {
   "cell_type": "markdown",
   "id": "afb775a1",
   "metadata": {},
   "source": [
    "CODIGO DA AULA"
   ]
  },
  {
   "cell_type": "code",
   "execution_count": null,
   "id": "8b3d3941",
   "metadata": {},
   "outputs": [],
   "source": [
    "from typing import TypedDict, Optional, Dict, List\n",
    "\n",
    "class AgentState(TypedDict, total = False):\n",
    "    mensagem: str\n",
    "    triage: dict\n",
    "    answer: Optional[str]\n",
    "    citations: List[dict]\n",
    "    rag_succes: bool\n",
    "    final_action: str"
   ]
  },
  {
   "cell_type": "code",
   "execution_count": null,
   "id": "bcc62184",
   "metadata": {},
   "outputs": [],
   "source": [
    "def triage_node(state: AgentState) -> AgentState:\n",
    "    print(\"Executing the triaging node\")\n",
    "    return {\"triage\": triage(state[\"message\"])}\n"
   ]
  },
  {
   "cell_type": "code",
   "execution_count": null,
   "id": "7c79443c",
   "metadata": {},
   "outputs": [],
   "source": [
    "def self_resolve_node(state: AgentState) -> AgentState:\n",
    "    print(\"Executing the self resolve node\")\n",
    "    rag_answer"
   ]
  }
 ],
 "metadata": {
  "kernelspec": {
   "display_name": "venv",
   "language": "python",
   "name": "python3"
  },
  "language_info": {
   "codemirror_mode": {
    "name": "ipython",
    "version": 3
   },
   "file_extension": ".py",
   "mimetype": "text/x-python",
   "name": "python",
   "nbconvert_exporter": "python",
   "pygments_lexer": "ipython3",
   "version": "3.13.3"
  }
 },
 "nbformat": 4,
 "nbformat_minor": 5
}
