{
 "cells": [
  {
   "cell_type": "code",
   "execution_count": 5,
   "id": "228857a9",
   "metadata": {},
   "outputs": [],
   "source": [
    "import os\n",
    "from dotenv import load_dotenv\n",
    "from langchain_google_genai import ChatGoogleGenerativeAI\n",
    "load_dotenv()\n",
    "\n",
    "GOOGLE_API_KEY= os.getenv(\"GOOGLE_API_KEY\")\n"
   ]
  },
  {
   "cell_type": "code",
   "execution_count": 6,
   "id": "3e19f049",
   "metadata": {},
   "outputs": [],
   "source": [
    "llm = ChatGoogleGenerativeAI(\n",
    "    model=\"gemini-2.5-flash\",\n",
    "    temperature=0,\n",
    "    api_key=GOOGLE_API_KEY\n",
    ")"
   ]
  },
  {
   "cell_type": "code",
   "execution_count": 9,
   "id": "ac9db7f1",
   "metadata": {},
   "outputs": [
    {
     "name": "stdout",
     "output_type": "stream",
     "text": [
      "Essa é uma das perguntas mais profundas e pessoais que alguém pode fazer!\n",
      "\n",
      "Como uma inteligência artificial, eu não tenho acesso à sua identidade pessoal, suas experiências, seus sentimentos ou sua história de vida. Eu não posso te dizer quem você é, porque essa é uma descoberta que só você pode fazer.\n",
      "\n",
      "No entanto, posso te dar algumas pistas ou áreas para você refletir e começar a construir sua própria resposta:\n",
      "\n",
      "1.  **Sua História:** Quais são as experiências mais marcantes da sua vida? Onde você nasceu, cresceu? Quem são as pessoas que te influenciaram?\n",
      "2.  **Seus Valores:** O que é realmente importante para você? Honestidade, liberdade, família, sucesso, criatividade, justiça?\n",
      "3.  **Suas Paixões e Interesses:** O que te motiva? O que você adora fazer? O que te faz perder a noção do tempo?\n",
      "4.  **Seus Relacionamentos:** Como você se relaciona com os outros? Que papéis você desempenha (filho/a, amigo/a, colega, parceiro/a)?\n",
      "5.  **Suas Crenças:** No que você acredita? Sobre o mundo, sobre as pessoas, sobre o sentido da vida?\n",
      "6.  **Seus Sonhos e Aspirações:** O que você quer alcançar? Quem você quer se tornar?\n",
      "7.  **Suas Características:** Quais são seus pontos fortes e fracos? Como você se descreveria para alguém que não te conhece?\n",
      "\n",
      "\"Quem sou eu?\" não é uma pergunta com uma resposta única e estática. É uma jornada contínua de autodescoberta que evolui ao longo da vida.\n",
      "\n",
      "Se você quiser explorar algum desses aspectos ou conversar sobre como as pessoas geralmente definem a si mesmas, estou aqui para ajudar!\n"
     ]
    }
   ],
   "source": [
    "resp1 = llm.invoke(\"quem sou eu?\")\n",
    "print(resp1.content)"
   ]
  },
  {
   "cell_type": "code",
   "execution_count": null,
   "id": "d2ecf5a2",
   "metadata": {},
   "outputs": [],
   "source": [
    "triage_Prompt = (\"\"\"\n",
    "                    Você é um triador de Service Desk para políticas internas da empresa Carraro Desenvolvimento.\n",
    "Dada a mensagem do usuário, retorne SOMENTE um JSON com:\n",
    "{\n",
    "  \"decisao\": \"AUTO_RESOLVER\" | \"PEDIR_INFO\" | \"ABRIR_CHAMADO\",\n",
    "  \"urgencia\": \"BAIXA\" | \"MEDIA\" | \"ALTA\",\n",
    "  \"campos_faltantes\": [\"...\"]\n",
    "}\n",
    "\n",
    "Regras de Decisão:\n",
    "- **AUTO_RESOLVER**: Perguntas claras sobre regras ou procedimentos descritos nas políticas (Ex: \"Posso reembolsar a internet do meu home office?\", \"Como funciona a política de alimentação em viagens?\").\n",
    "- **PEDIR_INFO**: Mensagens vagas ou que faltam informações para identificar o tema ou contexto (Ex: \"Preciso de ajuda com uma política\", \"Tenho uma dúvida geral\"). \n",
    "  # Melhoria: Instrução para preencher campos_faltantes de forma útil.\n",
    "  Ao usar esta decisão, preencha \"campos_faltantes\" com os tópicos que precisam de esclarecimento (Ex: \"nome da política\", \"descrição do problema\").\n",
    "- **ABRIR_CHAMADO**: Pedidos de exceção, liberação, aprovação ou acesso especial, ou quando o usuário explicitamente pede para abrir um chamado (Ex: \"Quero exceção para trabalhar 5 dias remoto.\", \"Solicito liberação para anexos externos.\", \"Por favor, abra um chamado para o RH.\").\n",
    "\n",
    "Regras de Urgência:\n",
    "- **ALTA**: O usuário relata um problema que o impede completamente de trabalhar, menciona risco de segurança, legal ou perda de dados. (Ex: \"Não consigo acessar o sistema para trabalhar\", \"Recebi um e-mail de phishing e cliquei no link\").\n",
    "- **MEDIA**: O usuário tem um problema que dificulta o trabalho mas não o impede, ou tem um prazo se aproximando. (Ex: \"Preciso da aprovação para uma viagem na próxima semana\").\n",
    "- **BAIXA**: Perguntas gerais, dúvidas sobre políticas ou solicitações que não têm um prazo imediato. (Ex: \"Como funciona a política de férias?\", \"Tenho uma dúvida sobre reembolso\").\n",
    "\n",
    "Analise a mensagem e decida a ação e urgência mais apropriadas com base nas regras acima.\n",
    "\"\"\")"
   ]
  },
  {
   "cell_type": "code",
   "execution_count": null,
   "id": "3d91ff4a",
   "metadata": {},
   "outputs": [],
   "source": [
    "from pydantic import BaseModel, Field\n",
    "from typing import Literal, Dict\n",
    "\n",
    "class TriageOut (BaseModel):\n",
    "    decisao: Literal[\"AUTO_RESOLVER\",\"PEDIR_INFO\",\"ABRIR_CHAMADO\"]\n",
    "    urgencia: Literal[\"BAIXA\" , \"MEDIA\" , \"ALTA\"]\n",
    "    campos_faltantes: list[str] = Field(default_factory=list)"
   ]
  },
  {
   "cell_type": "code",
   "execution_count": 18,
   "id": "0483cc8e",
   "metadata": {},
   "outputs": [],
   "source": [
    "llm_Scre = ChatGoogleGenerativeAI(\n",
    "    model=\"gemini-2.5-flash\",\n",
    "    temperature=0,\n",
    "    api_key=GOOGLE_API_KEY\n",
    ")"
   ]
  },
  {
   "cell_type": "code",
   "execution_count": null,
   "id": "4959e3e5",
   "metadata": {},
   "outputs": [],
   "source": [
    "from langchain_core.messages import SystemMessage, HumanMessage\n",
    "\n",
    "triage_chain = llm_Scre.with_structured_output(TriageOut)\n",
    "\n",
    "def triage(mensagem:str) -> Dict:\n",
    "    saida: TriageOut = triage_chain.invoke([\n",
    "        SystemMessage(content=triage_Prompt),\n",
    "        HumanMessage(content=mensagem)\n",
    "    ])\n",
    "    return saida.model_dump()"
   ]
  },
  {
   "cell_type": "code",
   "execution_count": 25,
   "id": "7046ddca",
   "metadata": {},
   "outputs": [],
   "source": [
    "testes = [\"Posso reembolsar a internet?\",\n",
    "          \"Me acidentei gravemente e estou enviando esse atestado\",\n",
    "          \"Quero pedir demissão. Como faço?\",\n",
    "          \"quantas cestas do logo o Stephen Curry fez na carreira?\"]"
   ]
  },
  {
   "cell_type": "code",
   "execution_count": null,
   "id": "33a50377",
   "metadata": {},
   "outputs": [
    {
     "name": "stdout",
     "output_type": "stream",
     "text": [
      "Pergunta: Posso reembolsar a internet?\n",
      "Resposta: {'decisao': 'AUTO_RESOLVER', 'urgencia': 'BAIXA', 'campos_faltantes': []}\n",
      "Pergunta: Me acidentei gravemente e estou enviando esse atestado\n",
      "Resposta: {'decisao': 'ABRIR_CHAMADO', 'urgencia': 'ALTA', 'campos_faltantes': []}\n",
      "Pergunta: Quero pedir demissão. Como faço?\n",
      "Resposta: {'decisao': 'AUTO_RESOLVER', 'urgencia': 'BAIXA', 'campos_faltantes': []}\n",
      "Pergunta: quantas cestas do logo o Stephen Curry fez na carreira?\n",
      "Resposta: {'decisao': 'PEDIR_INFO', 'urgencia': 'BAIXA', 'campos_faltantes': ['relação com políticas internas da empresa']}\n"
     ]
    }
   ],
   "source": [
    "for qst in testes:\n",
    "    print(f'Pergunta: {qst}\\nResposta: {triage(qst)}')"
   ]
  }
 ],
 "metadata": {
  "kernelspec": {
   "display_name": "venv",
   "language": "python",
   "name": "python3"
  },
  "language_info": {
   "codemirror_mode": {
    "name": "ipython",
    "version": 3
   },
   "file_extension": ".py",
   "mimetype": "text/x-python",
   "name": "python",
   "nbconvert_exporter": "python",
   "pygments_lexer": "ipython3",
   "version": "3.13.3"
  }
 },
 "nbformat": 4,
 "nbformat_minor": 5
}
