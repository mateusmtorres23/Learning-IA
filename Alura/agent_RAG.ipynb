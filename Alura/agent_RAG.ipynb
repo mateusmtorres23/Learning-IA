{
 "cells": [
  {
   "cell_type": "markdown",
   "id": "e73b660d",
   "metadata": {},
   "source": [
    "AI Agent with RAG implementation"
   ]
  },
  {
   "cell_type": "code",
   "execution_count": 38,
   "id": "6b439f94",
   "metadata": {},
   "outputs": [],
   "source": [
    "#inicializando a chave da api\n",
    "import os\n",
    "from dotenv import load_dotenv\n",
    "\n",
    "load_dotenv()\n",
    "GOOGLE_API_KEY= os.getenv(\"GOOGLE_API_KEY\")"
   ]
  },
  {
   "cell_type": "code",
   "execution_count": 39,
   "id": "b0959a5e",
   "metadata": {},
   "outputs": [
    {
     "name": "stdout",
     "output_type": "stream",
     "text": [
      "file loaded sucessifuly: Política de Reembolsos (Viagens e Despesas).pdf\n",
      "file loaded sucessifuly: Política de Uso de E-mail e Segurança da Informação.pdf\n",
      "file loaded sucessifuly: Políticas de Home Office.pdf\n",
      "3 docs loaded.\n"
     ]
    }
   ],
   "source": [
    "from pathlib import Path\n",
    "from langchain_community.document_loaders import PyMuPDFLoader\n",
    "\n",
    "docs = []\n",
    "data = Path(\"text_docs/\")\n",
    "for n in data.glob('*.pdf'):\n",
    "    try:\n",
    "        loader = PyMuPDFLoader(str(n))\n",
    "        docs.extend(loader.load())\n",
    "        print(f'file loaded sucessifuly: {n.name}')\n",
    "    except Exception as e:\n",
    "        print(f'failed to load the file {n.name}: {e}')\n",
    "\n",
    "print(f'{len(docs)} docs loaded.')"
   ]
  },
  {
   "cell_type": "code",
   "execution_count": 40,
   "id": "eb3256da",
   "metadata": {},
   "outputs": [],
   "source": [
    "from langchain.text_splitter import RecursiveCharacterTextSplitter\n",
    "splitter = RecursiveCharacterTextSplitter(chunk_size=300, chunk_overlap=30)\n",
    "chunks = splitter.split_documents(docs)"
   ]
  },
  {
   "cell_type": "code",
   "execution_count": 41,
   "id": "2106a563",
   "metadata": {},
   "outputs": [],
   "source": [
    "from langchain_google_genai import GoogleGenerativeAIEmbeddings, ChatGoogleGenerativeAI\n",
    "\n",
    "embedings = GoogleGenerativeAIEmbeddings(\n",
    "    model = \"models/gemini-embedding-001\",\n",
    "    google_api_key=GOOGLE_API_KEY\n",
    ")"
   ]
  },
  {
   "cell_type": "code",
   "execution_count": 42,
   "id": "b9f19401",
   "metadata": {},
   "outputs": [],
   "source": [
    "from langchain_community.vectorstores import FAISS\n",
    "\n",
    "vectorstore = FAISS.from_documents(chunks, embedings)\n",
    "retriever = vectorstore.as_retriever(search_type= 'similarity_score_threshold', \n",
    "                                     search_kwargs = {'score_threshold':0.3,'k':4})"
   ]
  },
  {
   "cell_type": "code",
   "execution_count": 43,
   "id": "474ecb85",
   "metadata": {},
   "outputs": [],
   "source": [
    "llm_rag = ChatGoogleGenerativeAI(\n",
    "    model=\"gemini-2.5-flash\",\n",
    "    temperature=0,\n",
    "    api_key=GOOGLE_API_KEY\n",
    ")"
   ]
  },
  {
   "cell_type": "code",
   "execution_count": 44,
   "id": "a953e3d6",
   "metadata": {},
   "outputs": [],
   "source": [
    "from langchain_core.prompts import ChatPromptTemplate\n",
    "from langchain.chains.combine_documents import create_stuff_documents_chain\n",
    "\n",
    "prompt_rag = ChatPromptTemplate.from_messages([\n",
    "    (\"system\", \"You are an expert HR and IT assistant for the company 'Torres Devs'. \"\n",
    "               \"Your main task is to answer employee questions based ONLY on the context provided. \"\n",
    "               \"Be polite and professional in your responses. \"\n",
    "               \"If the information to answer the question is not in the provided context, \"\n",
    "               \"clearly state that you cannot find the answer in the company's documents.\"),\n",
    "    \n",
    "    (\"user\", \"Based on our company's policies, please answer the following question:\\n\\nQuestion: {input}\\n\\nContext:\\n{context}\")\n",
    "])\n",
    "\n",
    "document_chain = create_stuff_documents_chain(llm_rag, prompt_rag)"
   ]
  },
  {
   "cell_type": "code",
   "execution_count": 52,
   "id": "7e38fe4c",
   "metadata": {},
   "outputs": [],
   "source": [
    "from typing import Dict\n",
    "\n",
    "def askQuestionRag(question:str) -> Dict:\n",
    "    related_docs = retriever.invoke(question)\n",
    "\n",
    "    if not related_docs:\n",
    "        return {\"answer\": \"cannot find the answer in the company's documents\",\n",
    "                \"citations\":[],\n",
    "                \"context_found\": False}\n",
    "    \n",
    "    answer = document_chain.invoke({'input': question,\n",
    "                                   'context': related_docs})\n",
    "    txt = (answer or \"\").strip()\n",
    "\n",
    "    if txt.rstrip(\".!?\") == \"cannot find the answer in the company's documents\":\n",
    "        return {\"answer\": \"cannot find the answer in the company's documents\",\n",
    "                \"citations\":[],\n",
    "                \"context_found\": False}\n",
    "    \n",
    "    return {\"answer\": txt,\n",
    "                \"citations\":related_docs,\n",
    "                \"context_found\": True}"
   ]
  },
  {
   "cell_type": "code",
   "execution_count": 54,
   "id": "8287a4de",
   "metadata": {},
   "outputs": [
    {
     "name": "stdout",
     "output_type": "stream",
     "text": [
      "Question: Posso reembolsar a internet?\n",
      "Answer: Olá!\n",
      "\n",
      "Sim, a internet para home office é reembolsável. A Torres Devs oferece um subsídio mensal de até R$ 100 para internet domiciliar para quem trabalha em regime de home office. Para solicitar o reembolso, é necessário apresentar uma nota fiscal nominal.\n",
      "\n",
      "Atenciosamente,\n",
      "Equipe de RH e TI da Torres Devs\n",
      "Citations: [Document(id='d951e92d-0ed5-4002-be79-b8997e817165', metadata={'producer': 'Skia/PDF m140 Google Docs Renderer', 'creator': '', 'creationdate': '', 'source': 'text_docs\\\\Política de Reembolsos (Viagens e Despesas).pdf', 'file_path': 'text_docs\\\\Política de Reembolsos (Viagens e Despesas).pdf', 'total_pages': 1, 'format': 'PDF 1.4', 'title': 'Imersão: Política de Reembolsos (Viagens e Despesas)', 'author': '', 'subject': '', 'keywords': '', 'moddate': '', 'trapped': '', 'modDate': '', 'creationDate': '', 'page': 0}, page_content='são reembolsáveis.\\u200b\\n \\n3.\\u200b Transporte: táxi/app são permitidos quando não houver alternativa viável. \\nComprovantes obrigatórios.\\u200b\\n \\n4.\\u200b Internet para home office: reembolsável via subsídio mensal de até R$ 100, \\nconforme política de Home Office.\\u200b'), Document(id='32c4a48d-598c-4ba3-9fe3-d91df191e29e', metadata={'producer': 'Skia/PDF m140 Google Docs Renderer', 'creator': '', 'creationdate': '', 'source': 'text_docs\\\\Política de Reembolsos (Viagens e Despesas).pdf', 'file_path': 'text_docs\\\\Política de Reembolsos (Viagens e Despesas).pdf', 'total_pages': 1, 'format': 'PDF 1.4', 'title': 'Imersão: Política de Reembolsos (Viagens e Despesas)', 'author': '', 'subject': '', 'keywords': '', 'moddate': '', 'trapped': '', 'modDate': '', 'creationDate': '', 'page': 0}, page_content='Política de Reembolsos (Viagens e \\nDespesas) \\n \\n1.\\u200b Reembolso: requer nota fiscal e deve ser submetido em até 10 dias corridos após a \\ndespesa.\\u200b\\n \\n2.\\u200b Alimentação em viagem: limite de R$ 70/dia por pessoa. Bebidas alcoólicas não \\nsão reembolsáveis.\\u200b'), Document(id='b651e806-c7c1-47e5-a9ab-4b64cb9a18df', metadata={'producer': 'Skia/PDF m140 Google Docs Renderer', 'creator': '', 'creationdate': '', 'source': 'text_docs\\\\Políticas de Home Office.pdf', 'file_path': 'text_docs\\\\Políticas de Home Office.pdf', 'total_pages': 1, 'format': 'PDF 1.4', 'title': 'Políticas de Home Office', 'author': '', 'subject': '', 'keywords': '', 'moddate': '', 'trapped': '', 'modDate': '', 'creationDate': '', 'page': 0}, page_content='5.\\u200b Conectividade: há subsídio mensal de internet domiciliar para quem trabalha em \\nhome office: até R$ 100/mês, mediante nota fiscal nominal.\\u200b\\n \\n6.\\u200b Solicitação de exceção (ex.: 4-5 dias remotos): deve ser formalizada via chamado \\nao RH com justificativa do gestor.'), Document(id='73b049a6-540f-40f4-a72d-ab077e92db2f', metadata={'producer': 'Skia/PDF m140 Google Docs Renderer', 'creator': '', 'creationdate': '', 'source': 'text_docs\\\\Políticas de Home Office.pdf', 'file_path': 'text_docs\\\\Políticas de Home Office.pdf', 'total_pages': 1, 'format': 'PDF 1.4', 'title': 'Políticas de Home Office', 'author': '', 'subject': '', 'keywords': '', 'moddate': '', 'trapped': '', 'modDate': '', 'creationDate': '', 'page': 0}, page_content='Políticas de Home Office \\n \\n1.\\u200b A empresa adota modelo híbrido: mínimo de 2 dias presenciais por semana, salvo \\nexceções aprovadas pelo gestor e RH.\\u200b\\n \\n2.\\u200b Equipamentos: a empresa fornece notebook e periféricos. O colaborador é \\nresponsável por zelar pela conservação.\\u200b')]\n",
      "\n",
      "Question: Me acidentei gravemente e estou enviando esse atestado\n",
      "Answer: Olá!\n",
      "\n",
      "Agradeço por nos informar sobre o ocorrido. No entanto, as políticas da empresa que tenho acesso no momento (Política de Uso de E-mail e Segurança da Informação, Políticas de Home Office e Política de Reembolsos) não contêm informações sobre procedimentos para acidentes ou envio de atestados médicos.\n",
      "\n",
      "Para obter as orientações corretas sobre como proceder com o atestado e as informações sobre seu acidente, por favor, entre em contato diretamente com o departamento de Recursos Humanos (RH) da Torres Devs. Eles poderão fornecer o suporte necessário.\n",
      "\n",
      "Desejo-lhe uma rápida recuperação.\n",
      "Citations: [Document(id='953a2ec1-7a09-4b46-b874-0f8a5729b286', metadata={'producer': 'Skia/PDF m140 Google Docs Renderer', 'creator': '', 'creationdate': '', 'source': 'text_docs\\\\Política de Uso de E-mail e Segurança da Informação.pdf', 'file_path': 'text_docs\\\\Política de Uso de E-mail e Segurança da Informação.pdf', 'total_pages': 1, 'format': 'PDF 1.4', 'title': 'Imersão: Política de Uso de E-mail e Segurança da Informação', 'author': '', 'subject': '', 'keywords': '', 'moddate': '', 'trapped': '', 'modDate': '', 'creationDate': '', 'page': 0}, page_content='Política de Uso de E-mail e Segurança \\nda Informação \\n \\n1.\\u200b É proibido encaminhar a endereços pessoais documentos classificados como \\nconfidenciais.\\u200b\\n \\n2.\\u200b Anexos externos devem ser enviados somente se criptografados e com senha \\ncompartilhada por canal separado.\\u200b'), Document(id='73b049a6-540f-40f4-a72d-ab077e92db2f', metadata={'producer': 'Skia/PDF m140 Google Docs Renderer', 'creator': '', 'creationdate': '', 'source': 'text_docs\\\\Políticas de Home Office.pdf', 'file_path': 'text_docs\\\\Políticas de Home Office.pdf', 'total_pages': 1, 'format': 'PDF 1.4', 'title': 'Políticas de Home Office', 'author': '', 'subject': '', 'keywords': '', 'moddate': '', 'trapped': '', 'modDate': '', 'creationDate': '', 'page': 0}, page_content='Políticas de Home Office \\n \\n1.\\u200b A empresa adota modelo híbrido: mínimo de 2 dias presenciais por semana, salvo \\nexceções aprovadas pelo gestor e RH.\\u200b\\n \\n2.\\u200b Equipamentos: a empresa fornece notebook e periféricos. O colaborador é \\nresponsável por zelar pela conservação.\\u200b'), Document(id='32c4a48d-598c-4ba3-9fe3-d91df191e29e', metadata={'producer': 'Skia/PDF m140 Google Docs Renderer', 'creator': '', 'creationdate': '', 'source': 'text_docs\\\\Política de Reembolsos (Viagens e Despesas).pdf', 'file_path': 'text_docs\\\\Política de Reembolsos (Viagens e Despesas).pdf', 'total_pages': 1, 'format': 'PDF 1.4', 'title': 'Imersão: Política de Reembolsos (Viagens e Despesas)', 'author': '', 'subject': '', 'keywords': '', 'moddate': '', 'trapped': '', 'modDate': '', 'creationDate': '', 'page': 0}, page_content='Política de Reembolsos (Viagens e \\nDespesas) \\n \\n1.\\u200b Reembolso: requer nota fiscal e deve ser submetido em até 10 dias corridos após a \\ndespesa.\\u200b\\n \\n2.\\u200b Alimentação em viagem: limite de R$ 70/dia por pessoa. Bebidas alcoólicas não \\nsão reembolsáveis.\\u200b'), Document(id='46f09c66-de83-407a-a0e3-6e7e620a2c8c', metadata={'producer': 'Skia/PDF m140 Google Docs Renderer', 'creator': '', 'creationdate': '', 'source': 'text_docs\\\\Política de Uso de E-mail e Segurança da Informação.pdf', 'file_path': 'text_docs\\\\Política de Uso de E-mail e Segurança da Informação.pdf', 'total_pages': 1, 'format': 'PDF 1.4', 'title': 'Imersão: Política de Uso de E-mail e Segurança da Informação', 'author': '', 'subject': '', 'keywords': '', 'moddate': '', 'trapped': '', 'modDate': '', 'creationDate': '', 'page': 0}, page_content='3.\\u200b Phishing: verifique remetente e domínios suspeitos. Reporte mensagens suspeitas \\nao time de Segurança imediatamente.\\u200b\\n \\n4.\\u200b Retenção: mensagens que contenham dados pessoais devem seguir as diretrizes \\nde retenção definidas pela equipe de Privacidade.\\u200b')]\n",
      "\n",
      "Question: Quero pedir demissão. Como faço?\n",
      "Answer: Prezado(a) colaborador(a),\n",
      "\n",
      "Agradeço sua pergunta. No entanto, as informações sobre o procedimento para pedido de demissão não constam nos documentos de políticas da empresa que me foram fornecidos (Políticas de Home Office, Política de Reembolsos e Política de Uso de E-mail e Segurança da Informação).\n",
      "\n",
      "Para obter orientações sobre como proceder, sugiro que entre em contato diretamente com o departamento de Recursos Humanos.\n",
      "\n",
      "Atenciosamente,\n",
      "Assistente de RH e TI da Torres Devs\n",
      "Citations: [Document(id='73b049a6-540f-40f4-a72d-ab077e92db2f', metadata={'producer': 'Skia/PDF m140 Google Docs Renderer', 'creator': '', 'creationdate': '', 'source': 'text_docs\\\\Políticas de Home Office.pdf', 'file_path': 'text_docs\\\\Políticas de Home Office.pdf', 'total_pages': 1, 'format': 'PDF 1.4', 'title': 'Políticas de Home Office', 'author': '', 'subject': '', 'keywords': '', 'moddate': '', 'trapped': '', 'modDate': '', 'creationDate': '', 'page': 0}, page_content='Políticas de Home Office \\n \\n1.\\u200b A empresa adota modelo híbrido: mínimo de 2 dias presenciais por semana, salvo \\nexceções aprovadas pelo gestor e RH.\\u200b\\n \\n2.\\u200b Equipamentos: a empresa fornece notebook e periféricos. O colaborador é \\nresponsável por zelar pela conservação.\\u200b'), Document(id='32c4a48d-598c-4ba3-9fe3-d91df191e29e', metadata={'producer': 'Skia/PDF m140 Google Docs Renderer', 'creator': '', 'creationdate': '', 'source': 'text_docs\\\\Política de Reembolsos (Viagens e Despesas).pdf', 'file_path': 'text_docs\\\\Política de Reembolsos (Viagens e Despesas).pdf', 'total_pages': 1, 'format': 'PDF 1.4', 'title': 'Imersão: Política de Reembolsos (Viagens e Despesas)', 'author': '', 'subject': '', 'keywords': '', 'moddate': '', 'trapped': '', 'modDate': '', 'creationDate': '', 'page': 0}, page_content='Política de Reembolsos (Viagens e \\nDespesas) \\n \\n1.\\u200b Reembolso: requer nota fiscal e deve ser submetido em até 10 dias corridos após a \\ndespesa.\\u200b\\n \\n2.\\u200b Alimentação em viagem: limite de R$ 70/dia por pessoa. Bebidas alcoólicas não \\nsão reembolsáveis.\\u200b'), Document(id='b651e806-c7c1-47e5-a9ab-4b64cb9a18df', metadata={'producer': 'Skia/PDF m140 Google Docs Renderer', 'creator': '', 'creationdate': '', 'source': 'text_docs\\\\Políticas de Home Office.pdf', 'file_path': 'text_docs\\\\Políticas de Home Office.pdf', 'total_pages': 1, 'format': 'PDF 1.4', 'title': 'Políticas de Home Office', 'author': '', 'subject': '', 'keywords': '', 'moddate': '', 'trapped': '', 'modDate': '', 'creationDate': '', 'page': 0}, page_content='5.\\u200b Conectividade: há subsídio mensal de internet domiciliar para quem trabalha em \\nhome office: até R$ 100/mês, mediante nota fiscal nominal.\\u200b\\n \\n6.\\u200b Solicitação de exceção (ex.: 4-5 dias remotos): deve ser formalizada via chamado \\nao RH com justificativa do gestor.'), Document(id='953a2ec1-7a09-4b46-b874-0f8a5729b286', metadata={'producer': 'Skia/PDF m140 Google Docs Renderer', 'creator': '', 'creationdate': '', 'source': 'text_docs\\\\Política de Uso de E-mail e Segurança da Informação.pdf', 'file_path': 'text_docs\\\\Política de Uso de E-mail e Segurança da Informação.pdf', 'total_pages': 1, 'format': 'PDF 1.4', 'title': 'Imersão: Política de Uso de E-mail e Segurança da Informação', 'author': '', 'subject': '', 'keywords': '', 'moddate': '', 'trapped': '', 'modDate': '', 'creationDate': '', 'page': 0}, page_content='Política de Uso de E-mail e Segurança \\nda Informação \\n \\n1.\\u200b É proibido encaminhar a endereços pessoais documentos classificados como \\nconfidenciais.\\u200b\\n \\n2.\\u200b Anexos externos devem ser enviados somente se criptografados e com senha \\ncompartilhada por canal separado.\\u200b')]\n",
      "\n",
      "Question: quantas cestas do logo o Stephen Curry fez na carreira?\n",
      "Answer: Prezado(a) colaborador(a),\n",
      "\n",
      "Agradeço a sua pergunta. No entanto, as políticas e documentos da empresa 'Torres Devs' fornecidos não contêm informações sobre estatísticas de jogadores de basquete como Stephen Curry.\n",
      "\n",
      "Se tiver alguma dúvida relacionada às políticas de reembolso, home office, uso de e-mail ou segurança da informação da empresa, ficarei feliz em ajudar.\n",
      "Citations: [Document(id='32c4a48d-598c-4ba3-9fe3-d91df191e29e', metadata={'producer': 'Skia/PDF m140 Google Docs Renderer', 'creator': '', 'creationdate': '', 'source': 'text_docs\\\\Política de Reembolsos (Viagens e Despesas).pdf', 'file_path': 'text_docs\\\\Política de Reembolsos (Viagens e Despesas).pdf', 'total_pages': 1, 'format': 'PDF 1.4', 'title': 'Imersão: Política de Reembolsos (Viagens e Despesas)', 'author': '', 'subject': '', 'keywords': '', 'moddate': '', 'trapped': '', 'modDate': '', 'creationDate': '', 'page': 0}, page_content='Política de Reembolsos (Viagens e \\nDespesas) \\n \\n1.\\u200b Reembolso: requer nota fiscal e deve ser submetido em até 10 dias corridos após a \\ndespesa.\\u200b\\n \\n2.\\u200b Alimentação em viagem: limite de R$ 70/dia por pessoa. Bebidas alcoólicas não \\nsão reembolsáveis.\\u200b'), Document(id='73b049a6-540f-40f4-a72d-ab077e92db2f', metadata={'producer': 'Skia/PDF m140 Google Docs Renderer', 'creator': '', 'creationdate': '', 'source': 'text_docs\\\\Políticas de Home Office.pdf', 'file_path': 'text_docs\\\\Políticas de Home Office.pdf', 'total_pages': 1, 'format': 'PDF 1.4', 'title': 'Políticas de Home Office', 'author': '', 'subject': '', 'keywords': '', 'moddate': '', 'trapped': '', 'modDate': '', 'creationDate': '', 'page': 0}, page_content='Políticas de Home Office \\n \\n1.\\u200b A empresa adota modelo híbrido: mínimo de 2 dias presenciais por semana, salvo \\nexceções aprovadas pelo gestor e RH.\\u200b\\n \\n2.\\u200b Equipamentos: a empresa fornece notebook e periféricos. O colaborador é \\nresponsável por zelar pela conservação.\\u200b'), Document(id='46f09c66-de83-407a-a0e3-6e7e620a2c8c', metadata={'producer': 'Skia/PDF m140 Google Docs Renderer', 'creator': '', 'creationdate': '', 'source': 'text_docs\\\\Política de Uso de E-mail e Segurança da Informação.pdf', 'file_path': 'text_docs\\\\Política de Uso de E-mail e Segurança da Informação.pdf', 'total_pages': 1, 'format': 'PDF 1.4', 'title': 'Imersão: Política de Uso de E-mail e Segurança da Informação', 'author': '', 'subject': '', 'keywords': '', 'moddate': '', 'trapped': '', 'modDate': '', 'creationDate': '', 'page': 0}, page_content='3.\\u200b Phishing: verifique remetente e domínios suspeitos. Reporte mensagens suspeitas \\nao time de Segurança imediatamente.\\u200b\\n \\n4.\\u200b Retenção: mensagens que contenham dados pessoais devem seguir as diretrizes \\nde retenção definidas pela equipe de Privacidade.\\u200b'), Document(id='953a2ec1-7a09-4b46-b874-0f8a5729b286', metadata={'producer': 'Skia/PDF m140 Google Docs Renderer', 'creator': '', 'creationdate': '', 'source': 'text_docs\\\\Política de Uso de E-mail e Segurança da Informação.pdf', 'file_path': 'text_docs\\\\Política de Uso de E-mail e Segurança da Informação.pdf', 'total_pages': 1, 'format': 'PDF 1.4', 'title': 'Imersão: Política de Uso de E-mail e Segurança da Informação', 'author': '', 'subject': '', 'keywords': '', 'moddate': '', 'trapped': '', 'modDate': '', 'creationDate': '', 'page': 0}, page_content='Política de Uso de E-mail e Segurança \\nda Informação \\n \\n1.\\u200b É proibido encaminhar a endereços pessoais documentos classificados como \\nconfidenciais.\\u200b\\n \\n2.\\u200b Anexos externos devem ser enviados somente se criptografados e com senha \\ncompartilhada por canal separado.\\u200b')]\n",
      "\n"
     ]
    }
   ],
   "source": [
    "tests = [\"Posso reembolsar a internet?\",\n",
    "          \"Me acidentei gravemente e estou enviando esse atestado\",\n",
    "          \"Quero pedir demissão. Como faço?\",\n",
    "          \"quantas cestas do logo o Stephen Curry fez na carreira?\"]\n",
    "\n",
    "for qst in tests:\n",
    "    answer = askQuestionRag(qst)\n",
    "    print(f'Question: {qst}')\n",
    "    print(f'Answer: {answer['answer']}')\n",
    "    if answer['context_found']:\n",
    "        print(f'Citations: {answer['citations']}')\n",
    "        print()"
   ]
  }
 ],
 "metadata": {
  "kernelspec": {
   "display_name": "venv",
   "language": "python",
   "name": "python3"
  },
  "language_info": {
   "codemirror_mode": {
    "name": "ipython",
    "version": 3
   },
   "file_extension": ".py",
   "mimetype": "text/x-python",
   "name": "python",
   "nbconvert_exporter": "python",
   "pygments_lexer": "ipython3",
   "version": "3.13.3"
  }
 },
 "nbformat": 4,
 "nbformat_minor": 5
}
